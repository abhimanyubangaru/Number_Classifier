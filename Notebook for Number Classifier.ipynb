{
 "cells": [
  {
   "cell_type": "code",
   "execution_count": 10,
   "id": "a4a698fb",
   "metadata": {},
   "outputs": [],
   "source": [
    "import torch, torchvision \n",
    "from torch import nn\n",
    "from torch import optim \n",
    "from torchvision.transforms import ToTensor\n",
    "import torch.nn.functional as F\n",
    "import matplotlib.pyplot as plt\n",
    "import copy\n",
    "\n",
    "from sklearn.metrics import confusion_matrix\n",
    "import pandas as pd \n",
    "import numpy as np \n",
    "\n",
    "import requests\n",
    "from PIL import Image \n",
    "from io import BytesIO"
   ]
  },
  {
   "cell_type": "code",
   "execution_count": null,
   "id": "3ac4fc62",
   "metadata": {},
   "outputs": [],
   "source": []
  },
  {
   "cell_type": "markdown",
   "id": "d1be6811",
   "metadata": {},
   "source": []
  },
  {
   "cell_type": "markdown",
   "id": "67224cce",
   "metadata": {},
   "source": []
  },
  {
   "cell_type": "code",
   "execution_count": 11,
   "id": "1a589f4b",
   "metadata": {},
   "outputs": [],
   "source": [
    "num_batch = 64"
   ]
  },
  {
   "cell_type": "markdown",
   "id": "7829096e",
   "metadata": {},
   "source": [
    "Getting Data"
   ]
  },
  {
   "cell_type": "code",
   "execution_count": 13,
   "id": "b8f6c0d6",
   "metadata": {},
   "outputs": [],
   "source": [
    "T = torchvision.transforms.Compose([\n",
    "    torchvision.transforms.ToTensor()\n",
    "])\n",
    "train_data = torchvision.datasets.MNIST('mnist_data',train=True, download=True, transform = T)\n",
    "validation_data = torchvision.datasets.MNIST('mnist_data',train=False, download=True, transform = T)\n",
    "\n",
    "train_dl = torch.utils.data.DataLoader(train_data,batch_size = num_batch)\n",
    "val_dl = torch.utils.data.DataLoader(validation_data,batch_size = num_batch)"
   ]
  },
  {
   "cell_type": "code",
   "execution_count": 14,
   "id": "460afa49",
   "metadata": {},
   "outputs": [
    {
     "data": {
      "text/plain": [
       "<matplotlib.image.AxesImage at 0x166f31c70>"
      ]
     },
     "execution_count": 14,
     "metadata": {},
     "output_type": "execute_result"
    },
    {
     "data": {
      "image/png": "[encoded data removed]",
      "text/plain": [
       "<Figure size 640x480 with 1 Axes>"
      ]
     },
     "metadata": {},
     "output_type": "display_data"
    }
   ],
   "source": [
    "plt.imshow(train_data[100][0][0])"
   ]
  },
  {
   "cell_type": "markdown",
   "id": "a50b5a70",
   "metadata": {},
   "source": [
    "# Create the Model"
   ]
  },
  {
   "cell_type": "code",
   "execution_count": 15,
   "id": "1ce6a5b5",
   "metadata": {},
   "outputs": [],
   "source": [
    "def create_lenet():\n",
    "    model = nn.Sequential(\n",
    "        \n",
    "        nn.Conv2d(1,6,5,padding=2),\n",
    "        nn.ReLU(),\n",
    "        nn.AvgPool2d(2, stride=2),\n",
    "        \n",
    "        nn.Conv2d(6,16,5,padding=0),\n",
    "        nn.ReLU(),\n",
    "        nn.AvgPool2d(2, stride=2),\n",
    "        \n",
    "        nn.Flatten(),\n",
    "        nn.Linear(16*5*5,120),\n",
    "        nn.ReLU(),\n",
    "        nn.Linear(120,84), \n",
    "        nn.ReLU(),\n",
    "        nn.Linear(84,10)\n",
    "        \n",
    "    )\n",
    "    return model"
   ]
  },
  {
   "cell_type": "markdown",
   "id": "6d06121f",
   "metadata": {},
   "source": [
    "# Validate the Model"
   ]
  },
  {
   "cell_type": "code",
   "execution_count": 16,
   "id": "addb13cf",
   "metadata": {},
   "outputs": [],
   "source": [
    "def validate(model, data):\n",
    "    correct = 0\n",
    "    for i, (images, labels) in enumerate(data):\n",
    "        images = images.to(\"cpu\")  # Move images to CPU\n",
    "        x = model(images)\n",
    "        value, pred = torch.max(x, 1)\n",
    "        correct += (pred == labels).sum().item()\n",
    "    accuracy = 100 * correct / len(data.dataset)\n",
    "    return accuracy"
   ]
  },
  {
   "cell_type": "markdown",
   "id": "6bf5c98c",
   "metadata": {},
   "source": [
    "# Train function"
   ]
  },
  {
   "cell_type": "code",
   "execution_count": 17,
   "id": "77e11d16",
   "metadata": {},
   "outputs": [],
   "source": [
    "def train(num_epoch=3, lr=1e-3,device=\"cpu\"):\n",
    "    accuracies = []\n",
    "    cnn = create_lenet().to(device)\n",
    "    cec = nn.CrossEntropyLoss()\n",
    "    optimizer = optim.Adam(cnn.parameters(),lr=lr)\n",
    "    max_accuracy = 0\n",
    "    \n",
    "    for epoch in range(num_epoch):\n",
    "        for i, (images,labels) in enumerate(train_dl):\n",
    "            images = images.to(device)\n",
    "            labels = labels.to(device)\n",
    "            optimizer.zero_grad()\n",
    "            pred = cnn(images)\n",
    "            loss = cec(pred, labels)\n",
    "            loss.backward()\n",
    "            optimizer.step()\n",
    "        accuracy = float(validate(cnn, val_dl))\n",
    "        accuracies.append(accuracy)\n",
    "        if accuracy > max_accuracy:\n",
    "            best_model = copy.deepcopy(cnn)\n",
    "            max_accuracy = accuracy\n",
    "            print(\"Saving with Model with Best accuracy\", accuracy)\n",
    "        print(\"Epoch\", epoch+1, \"Accuracy\", accuracy,\"%\")\n",
    "    plt.plot(accuracies)\n",
    "    return best_model\n",
    "                "
   ]
  },
  {
   "cell_type": "markdown",
   "id": "d23651d8",
   "metadata": {},
   "source": [
    "# GPU Availibility"
   ]
  },
  {
   "cell_type": "code",
   "execution_count": 18,
   "id": "f2fdb1d8",
   "metadata": {},
   "outputs": [
    {
     "data": {
      "text/plain": [
       "device(type='cpu')"
      ]
     },
     "execution_count": 18,
     "metadata": {},
     "output_type": "execute_result"
    }
   ],
   "source": [
    "if torch.cuda.is_available():\n",
    "    device = torch.device(\"cuda:0\")\n",
    "else:\n",
    "    device = torch.device(\"cpu\")\n",
    "device"
   ]
  },
  {
   "cell_type": "markdown",
   "id": "0a98ac88",
   "metadata": {},
   "source": [
    "# Training the Model"
   ]
  },
  {
   "cell_type": "code",
   "execution_count": 71,
   "id": "8b5b2675",
   "metadata": {},
   "outputs": [
    {
     "name": "stdout",
     "output_type": "stream",
     "text": [
      "Saving with Model with Best accuracy 95.11\n",
      "Epoch 1 Accuracy 95.11 %\n",
      "Saving with Model with Best accuracy 96.92\n",
      "Epoch 2 Accuracy 96.92 %\n",
      "Saving with Model with Best accuracy 97.29\n",
      "Epoch 3 Accuracy 97.29 %\n",
      "Saving with Model with Best accuracy 98.06\n",
      "Epoch 4 Accuracy 98.06 %\n",
      "Saving with Model with Best accuracy 98.61\n",
      "Epoch 5 Accuracy 98.61 %\n",
      "Saving with Model with Best accuracy 98.68\n",
      "Epoch 6 Accuracy 98.68 %\n",
      "Saving with Model with Best accuracy 98.78\n",
      "Epoch 7 Accuracy 98.78 %\n",
      "Epoch 8 Accuracy 98.7 %\n",
      "Epoch 9 Accuracy 98.62 %\n",
      "Epoch 10 Accuracy 98.45 %\n",
      "Saving with Model with Best accuracy 98.85\n",
      "Epoch 11 Accuracy 98.85 %\n",
      "Epoch 12 Accuracy 98.64 %\n",
      "Epoch 13 Accuracy 98.81 %\n",
      "Epoch 14 Accuracy 98.78 %\n",
      "Epoch 15 Accuracy 98.75 %\n",
      "Epoch 16 Accuracy 98.63 %\n",
      "Epoch 17 Accuracy 98.72 %\n",
      "Epoch 18 Accuracy 98.6 %\n",
      "Epoch 19 Accuracy 98.83 %\n",
      "Epoch 20 Accuracy 98.68 %\n",
      "Saving with Model with Best accuracy 98.89\n",
      "Epoch 21 Accuracy 98.89 %\n",
      "Epoch 22 Accuracy 98.87 %\n",
      "Epoch 23 Accuracy 98.77 %\n",
      "Epoch 24 Accuracy 98.67 %\n",
      "Saving with Model with Best accuracy 98.93\n",
      "Epoch 25 Accuracy 98.93 %\n",
      "Epoch 26 Accuracy 98.82 %\n",
      "Epoch 27 Accuracy 98.85 %\n",
      "Epoch 28 Accuracy 98.93 %\n",
      "Epoch 29 Accuracy 98.41 %\n",
      "Epoch 30 Accuracy 98.75 %\n",
      "Saving with Model with Best accuracy 98.98\n",
      "Epoch 31 Accuracy 98.98 %\n",
      "Epoch 32 Accuracy 98.9 %\n",
      "Epoch 33 Accuracy 98.84 %\n",
      "Saving with Model with Best accuracy 99.09\n",
      "Epoch 34 Accuracy 99.09 %\n",
      "Epoch 35 Accuracy 98.75 %\n",
      "Epoch 36 Accuracy 98.96 %\n",
      "Epoch 37 Accuracy 98.88 %\n",
      "Epoch 38 Accuracy 98.69 %\n",
      "Saving with Model with Best accuracy 99.12\n",
      "Epoch 39 Accuracy 99.12 %\n",
      "Epoch 40 Accuracy 98.91 %\n"
     ]
    },
    {
     "data": {
      "image/png": "[encoded data removed]",
      "text/plain": [
       "<Figure size 640x480 with 1 Axes>"
      ]
     },
     "metadata": {},
     "output_type": "display_data"
    }
   ],
   "source": [
    "lenet = train(40,device=device)"
   ]
  },
  {
   "cell_type": "code",
   "execution_count": 72,
   "id": "f2556027",
   "metadata": {},
   "outputs": [],
   "source": [
    "def predict_dl(model,data):\n",
    "    y_pred = []\n",
    "    y_true = [] \n",
    "    for i, (images,labels) in enumerate(data):\n",
    "        x = model(images)\n",
    "        value, pred = torch.max(x,1)\n",
    "        y_pred.extend(list(pred.numpy()))\n",
    "        y_true.extend(list(labels.numpy()))\n",
    "    return np.array(y_pred),np.array(y_true)"
   ]
  },
  {
   "cell_type": "code",
   "execution_count": 73,
   "id": "03ebf57f",
   "metadata": {},
   "outputs": [],
   "source": [
    "y_pred, y_true = predict_dl(lenet,val_dl)"
   ]
  },
  {
   "cell_type": "code",
   "execution_count": 74,
   "id": "a3063c66",
   "metadata": {},
   "outputs": [
    {
     "data": {
      "text/plain": [
       "array([7, 2, 1, ..., 4, 5, 6])"
      ]
     },
     "execution_count": 74,
     "metadata": {},
     "output_type": "execute_result"
    }
   ],
   "source": [
    "y_pred"
   ]
  },
  {
   "cell_type": "code",
   "execution_count": 75,
   "id": "20489524",
   "metadata": {},
   "outputs": [
    {
     "data": {
      "text/html": [
       "<div>\n",
       "<style scoped>\n",
       "    .dataframe tbody tr th:only-of-type {\n",
       "        vertical-align: middle;\n",
       "    }\n",
       "\n",
       "    .dataframe tbody tr th {\n",
       "        vertical-align: top;\n",
       "    }\n",
       "\n",
       "    .dataframe thead th {\n",
       "        text-align: right;\n",
       "    }\n",
       "</style>\n",
       "<table border=\"1\" class=\"dataframe\">\n",
       "  <thead>\n",
       "    <tr style=\"text-align: right;\">\n",
       "      <th></th>\n",
       "      <th>0</th>\n",
       "      <th>1</th>\n",
       "      <th>2</th>\n",
       "      <th>3</th>\n",
       "      <th>4</th>\n",
       "      <th>5</th>\n",
       "      <th>6</th>\n",
       "      <th>7</th>\n",
       "      <th>8</th>\n",
       "      <th>9</th>\n",
       "    </tr>\n",
       "  </thead>\n",
       "  <tbody>\n",
       "    <tr>\n",
       "      <th>0</th>\n",
       "      <td>978</td>\n",
       "      <td>0</td>\n",
       "      <td>0</td>\n",
       "      <td>0</td>\n",
       "      <td>0</td>\n",
       "      <td>0</td>\n",
       "      <td>1</td>\n",
       "      <td>1</td>\n",
       "      <td>0</td>\n",
       "      <td>0</td>\n",
       "    </tr>\n",
       "    <tr>\n",
       "      <th>1</th>\n",
       "      <td>0</td>\n",
       "      <td>1133</td>\n",
       "      <td>0</td>\n",
       "      <td>0</td>\n",
       "      <td>0</td>\n",
       "      <td>0</td>\n",
       "      <td>1</td>\n",
       "      <td>0</td>\n",
       "      <td>1</td>\n",
       "      <td>0</td>\n",
       "    </tr>\n",
       "    <tr>\n",
       "      <th>2</th>\n",
       "      <td>1</td>\n",
       "      <td>1</td>\n",
       "      <td>1024</td>\n",
       "      <td>0</td>\n",
       "      <td>1</td>\n",
       "      <td>0</td>\n",
       "      <td>0</td>\n",
       "      <td>5</td>\n",
       "      <td>0</td>\n",
       "      <td>0</td>\n",
       "    </tr>\n",
       "    <tr>\n",
       "      <th>3</th>\n",
       "      <td>0</td>\n",
       "      <td>0</td>\n",
       "      <td>0</td>\n",
       "      <td>1000</td>\n",
       "      <td>0</td>\n",
       "      <td>6</td>\n",
       "      <td>0</td>\n",
       "      <td>2</td>\n",
       "      <td>1</td>\n",
       "      <td>1</td>\n",
       "    </tr>\n",
       "    <tr>\n",
       "      <th>4</th>\n",
       "      <td>0</td>\n",
       "      <td>0</td>\n",
       "      <td>0</td>\n",
       "      <td>0</td>\n",
       "      <td>977</td>\n",
       "      <td>0</td>\n",
       "      <td>1</td>\n",
       "      <td>2</td>\n",
       "      <td>1</td>\n",
       "      <td>1</td>\n",
       "    </tr>\n",
       "    <tr>\n",
       "      <th>5</th>\n",
       "      <td>2</td>\n",
       "      <td>0</td>\n",
       "      <td>0</td>\n",
       "      <td>4</td>\n",
       "      <td>0</td>\n",
       "      <td>884</td>\n",
       "      <td>1</td>\n",
       "      <td>0</td>\n",
       "      <td>1</td>\n",
       "      <td>0</td>\n",
       "    </tr>\n",
       "    <tr>\n",
       "      <th>6</th>\n",
       "      <td>3</td>\n",
       "      <td>2</td>\n",
       "      <td>0</td>\n",
       "      <td>0</td>\n",
       "      <td>1</td>\n",
       "      <td>3</td>\n",
       "      <td>948</td>\n",
       "      <td>0</td>\n",
       "      <td>1</td>\n",
       "      <td>0</td>\n",
       "    </tr>\n",
       "    <tr>\n",
       "      <th>7</th>\n",
       "      <td>0</td>\n",
       "      <td>3</td>\n",
       "      <td>3</td>\n",
       "      <td>0</td>\n",
       "      <td>1</td>\n",
       "      <td>0</td>\n",
       "      <td>0</td>\n",
       "      <td>1019</td>\n",
       "      <td>2</td>\n",
       "      <td>0</td>\n",
       "    </tr>\n",
       "    <tr>\n",
       "      <th>8</th>\n",
       "      <td>4</td>\n",
       "      <td>0</td>\n",
       "      <td>1</td>\n",
       "      <td>3</td>\n",
       "      <td>2</td>\n",
       "      <td>2</td>\n",
       "      <td>0</td>\n",
       "      <td>2</td>\n",
       "      <td>957</td>\n",
       "      <td>3</td>\n",
       "    </tr>\n",
       "    <tr>\n",
       "      <th>9</th>\n",
       "      <td>0</td>\n",
       "      <td>0</td>\n",
       "      <td>0</td>\n",
       "      <td>0</td>\n",
       "      <td>10</td>\n",
       "      <td>5</td>\n",
       "      <td>0</td>\n",
       "      <td>2</td>\n",
       "      <td>0</td>\n",
       "      <td>992</td>\n",
       "    </tr>\n",
       "  </tbody>\n",
       "</table>\n",
       "</div>"
      ],
      "text/plain": [
       "     0     1     2     3    4    5    6     7    8    9\n",
       "0  978     0     0     0    0    0    1     1    0    0\n",
       "1    0  1133     0     0    0    0    1     0    1    0\n",
       "2    1     1  1024     0    1    0    0     5    0    0\n",
       "3    0     0     0  1000    0    6    0     2    1    1\n",
       "4    0     0     0     0  977    0    1     2    1    1\n",
       "5    2     0     0     4    0  884    1     0    1    0\n",
       "6    3     2     0     0    1    3  948     0    1    0\n",
       "7    0     3     3     0    1    0    0  1019    2    0\n",
       "8    4     0     1     3    2    2    0     2  957    3\n",
       "9    0     0     0     0   10    5    0     2    0  992"
      ]
     },
     "execution_count": 75,
     "metadata": {},
     "output_type": "execute_result"
    }
   ],
   "source": [
    "pd.DataFrame(confusion_matrix(y_true, y_pred, labels=np.arange(0,10)))"
   ]
  },
  {
   "cell_type": "markdown",
   "id": "2b480aa5",
   "metadata": {},
   "source": [
    "# Define an inference function"
   ]
  },
  {
   "cell_type": "code",
   "execution_count": 76,
   "id": "de4a516c",
   "metadata": {},
   "outputs": [],
   "source": [
    "def inference(path, model, device):\n",
    "    r = requests.get(path)\n",
    "    with BytesIO(r.content) as f:\n",
    "        image = Image.open(f).convert(mode=\"L\")\n",
    "        image = image.resize((28,28)) #model only accepts 28 by 28 \n",
    "        x = (255 - np.expand_dims(np.array(image), -1))/255.\n",
    "    with torch.no_grad():\n",
    "        pred = model(torch.unsqueeze(T(x), axis=0).float().to(device))\n",
    "        return F.softmax(pred, dim=-1).cpu().numpy()"
   ]
  },
  {
   "cell_type": "code",
   "execution_count": 77,
   "id": "282802a0",
   "metadata": {},
   "outputs": [],
   "source": [
    " path = \"https://encrypted-tbn0.gstatic.com/images?q=tbn:ANd9GcR_-ZIg304UGx64kaQYJB6BJdkFQimNbYzzWlvDgwQ&s|\""
   ]
  },
  {
   "cell_type": "code",
   "execution_count": 78,
   "id": "6e5aba78",
   "metadata": {},
   "outputs": [],
   "source": [
    "r = requests.get(path)\n",
    "with BytesIO(r.content) as f:\n",
    "    image = Image.open(f).convert(mode=\"L\")\n",
    "    image = image.resize((32,32)) #model only accepts 28 by 28 \n",
    "    x = (255 - np.expand_dims(np.array(image), -1))/255."
   ]
  },
  {
   "cell_type": "code",
   "execution_count": 79,
   "id": "0b9d4aaa",
   "metadata": {},
   "outputs": [
    {
     "data": {
      "text/plain": [
       "<matplotlib.image.AxesImage at 0x291dc3400>"
      ]
     },
     "execution_count": 79,
     "metadata": {},
     "output_type": "execute_result"
    },
    {
     "data": {
      "image/png": "[encoded data removed]",
      "text/plain": [
       "<Figure size 640x480 with 1 Axes>"
      ]
     },
     "metadata": {},
     "output_type": "display_data"
    }
   ],
   "source": [
    "plt.imshow(x.squeeze(-1))"
   ]
  },
  {
   "cell_type": "code",
   "execution_count": 80,
   "id": "8af4fe84",
   "metadata": {},
   "outputs": [
    {
     "data": {
      "text/plain": [
       "array([[1.5596185e-10, 1.0163478e-12, 9.9999785e-01, 9.6809734e-11,\n",
       "        8.5085925e-23, 4.3294455e-17, 1.6051364e-12, 2.1401103e-13,\n",
       "        2.1053959e-06, 2.0598696e-15]], dtype=float32)"
      ]
     },
     "execution_count": 80,
     "metadata": {},
     "output_type": "execute_result"
    }
   ],
   "source": [
    "pred = inference(path,lenet,device=device)\n",
    "pred"
   ]
  },
  {
   "cell_type": "code",
   "execution_count": 81,
   "id": "a9d87fd1",
   "metadata": {},
   "outputs": [],
   "source": [
    "pred_idx = np.argmax(pred)"
   ]
  },
  {
   "cell_type": "code",
   "execution_count": 82,
   "id": "228cfc78",
   "metadata": {},
   "outputs": [
    {
     "name": "stdout",
     "output_type": "stream",
     "text": [
      "Predicted: 2 Prob: 99.99978542327881\n"
     ]
    }
   ],
   "source": [
    "print(f\"Predicted: {pred_idx} Prob: {pred[0][pred_idx]*100}\")"
   ]
  },
  {
   "cell_type": "code",
   "execution_count": 83,
   "id": "a2ed1263",
   "metadata": {},
   "outputs": [],
   "source": [
    "def plot_predictions(pred):\n",
    "    # Create an array with the number of classes\n",
    "    classes = np.arange(len(pred))\n",
    "\n",
    "    # Create a bar plot\n",
    "    plt.bar(classes, pred)\n",
    "\n",
    "    # Add title and labels\n",
    "    plt.title('Prediction Probabilities')\n",
    "    plt.xlabel('Classes')\n",
    "    plt.ylabel('Probability')\n",
    "\n",
    "    # Show the plot\n",
    "    plt.show()"
   ]
  },
  {
   "cell_type": "code",
   "execution_count": 84,
   "id": "eaf0cc09",
   "metadata": {},
   "outputs": [
    {
     "data": {
      "image/png": "[encoded data removed]",
      "text/plain": [
       "<Figure size 640x480 with 1 Axes>"
      ]
     },
     "metadata": {},
     "output_type": "display_data"
    }
   ],
   "source": [
    "plot_predictions(pred[0])"
   ]
  },
  {
   "cell_type": "code",
   "execution_count": 86,
   "id": "41c30535",
   "metadata": {},
   "outputs": [],
   "source": [
    "torch.save(lenet.state_dict(), 'updated_model_weights.pth')"
   ]
  },
  {
   "cell_type": "code",
   "execution_count": null,
   "id": "86d9115d",
   "metadata": {},
   "outputs": [],
   "source": []
  }
 ],
 "metadata": {
  "kernelspec": {
   "display_name": "Python 3.9 (pytorch)",
   "language": "python",
   "name": "pytorch"
  },
  "language_info": {
   "codemirror_mode": {
    "name": "ipython",
    "version": 3
   },
   "file_extension": ".py",
   "mimetype": "text/x-python",
   "name": "python",
   "nbconvert_exporter": "python",
   "pygments_lexer": "ipython3",
   "version": "3.9.16"
  }
 },
 "nbformat": 4,
 "nbformat_minor": 5
}
